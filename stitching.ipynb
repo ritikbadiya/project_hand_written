{
 "cells": [
  {
   "cell_type": "code",
   "execution_count": 17,
   "metadata": {},
   "outputs": [],
   "source": [
    "from PIL import Image, ImageFont, ImageDraw,ImageEnhance,ImageTransform,ImageFilter\n",
    "import random\n",
    "\n",
    "def quad(img):\n",
    "        fact=100\n",
    "        mn=[random.randint(0,fact) for i in range(8)]\n",
    "        w,h=img.size\n",
    "        img=img.filter(ImageFilter.GaussianBlur(radius=1))\n",
    "        img=img.transform(size=img.size,data=(mn[0],mn[1],mn[2],h-mn[3],w-mn[4],h-mn[5],w-mn[6],mn[7]),method=Image.QUAD)\n",
    "        return(img)\n",
    "img=Image.open('./eng/que20.png')    "
   ]
  },
  {
   "cell_type": "code",
   "execution_count": 20,
   "metadata": {
    "scrolled": false
   },
   "outputs": [],
   "source": [
    "import os\n",
    "for i in os.listdir('./eng'):\n",
    "    name='./eng'+'/'+i\n",
    "    img=Image.open(name)\n",
    "    img=(quad(img))\n",
    "    img.save(name[:-4]+'new'+'.png')"
   ]
  },
  {
   "cell_type": "code",
   "execution_count": null,
   "metadata": {},
   "outputs": [],
   "source": []
  }
 ],
 "metadata": {
  "kernelspec": {
   "display_name": "Python 3",
   "language": "python",
   "name": "python3"
  },
  "language_info": {
   "codemirror_mode": {
    "name": "ipython",
    "version": 3
   },
   "file_extension": ".py",
   "mimetype": "text/x-python",
   "name": "python",
   "nbconvert_exporter": "python",
   "pygments_lexer": "ipython3",
   "version": "3.8.5"
  }
 },
 "nbformat": 4,
 "nbformat_minor": 4
}
